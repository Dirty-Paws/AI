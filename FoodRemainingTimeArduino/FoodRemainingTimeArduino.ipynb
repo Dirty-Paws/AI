{
 "cells": [
  {
   "cell_type": "markdown",
   "metadata": {},
   "source": [
    "# Akıllı Mama Kabından Alınan Veri İle Mama Bitiş Süresi Tahmini"
   ]
  },
  {
   "cell_type": "markdown",
   "metadata": {},
   "source": [
    "Bu notdefterinde Akıllı Mama kabına (Arduino) bağlı sensörlerden alınan veri yardımıyla mamanın bitmesine kalan süre tahmin edilecektir.\n",
    "\n",
    "**ÖNEMLİ NOT :** Elimizdeki veri çok kısa bir zamanda toplantığı için üretimde bu verinin kullanılması söz konusu değildir. Şuan bu verideki eğilime göre oluşturulmuş sahte veri ile eğitilen model deploy edilmiştir. O modeli incelemek için [FoodRemainingTime](https://github.com/Dirty-Paws/AI/tree/main/FoodRemainingTime) klasörüne göz atabilirsiniz. Uygulama üretime geçtiğinde elde edilecek veri ile makine öğrenmesi modeli uygulama içerisinde aktif hale getirilecektir."
   ]
  },
  {
   "cell_type": "markdown",
   "metadata": {},
   "source": [
    "Gerekli Kütüphanelerin yüklenmesiyle başlayalım"
   ]
  },
  {
   "cell_type": "code",
   "execution_count": 274,
   "metadata": {},
   "outputs": [],
   "source": [
    "import pandas as pd\n",
    "import numpy as np\n",
    "import matplotlib.pyplot as plt\n",
    "import seaborn as sns\n",
    "import re\n",
    "from datetime import datetime\n",
    "\n",
    "\n",
    "from sklearn.linear_model import LinearRegression\n",
    "from sklearn.model_selection import cross_val_score\n",
    "from sklearn.metrics import mean_squared_error\n",
    "from sklearn.model_selection import train_test_split \n",
    "from sklearn.ensemble import RandomForestRegressor\n",
    "from sklearn.model_selection import GridSearchCV"
   ]
  },
  {
   "cell_type": "markdown",
   "metadata": {},
   "source": [
    "# 1. İlk Bakış ve Önişleme"
   ]
  },
  {
   "cell_type": "code",
   "execution_count": 275,
   "metadata": {},
   "outputs": [
    {
     "data": {
      "text/html": [
       "<div>\n",
       "<style scoped>\n",
       "    .dataframe tbody tr th:only-of-type {\n",
       "        vertical-align: middle;\n",
       "    }\n",
       "\n",
       "    .dataframe tbody tr th {\n",
       "        vertical-align: top;\n",
       "    }\n",
       "\n",
       "    .dataframe thead th {\n",
       "        text-align: right;\n",
       "    }\n",
       "</style>\n",
       "<table border=\"1\" class=\"dataframe\">\n",
       "  <thead>\n",
       "    <tr style=\"text-align: right;\">\n",
       "      <th></th>\n",
       "      <th>0</th>\n",
       "    </tr>\n",
       "  </thead>\n",
       "  <tbody>\n",
       "    <tr>\n",
       "      <th>0</th>\n",
       "      <td>[2020-10-18 20:48:26.302]</td>\n",
       "    </tr>\n",
       "    <tr>\n",
       "      <th>1</th>\n",
       "      <td>[2020-10-18 20:48:26.302]  Suyun Seviyesi:543</td>\n",
       "    </tr>\n",
       "    <tr>\n",
       "      <th>2</th>\n",
       "      <td>[2020-10-18 20:48:26.302] 28.84 celsius</td>\n",
       "    </tr>\n",
       "    <tr>\n",
       "      <th>3</th>\n",
       "      <td>[2020-10-18 20:48:26.302] 60cm'den daha uzak</td>\n",
       "    </tr>\n",
       "    <tr>\n",
       "      <th>4</th>\n",
       "      <td>[2020-10-18 20:48:26.302] Isik seviyesi:87</td>\n",
       "    </tr>\n",
       "    <tr>\n",
       "      <th>5</th>\n",
       "      <td>[2020-10-18 20:48:26.302]</td>\n",
       "    </tr>\n",
       "    <tr>\n",
       "      <th>6</th>\n",
       "      <td>[2020-10-18 20:48:26.302]  Suyun Seviyesi:543</td>\n",
       "    </tr>\n",
       "    <tr>\n",
       "      <th>7</th>\n",
       "      <td>[2020-10-18 20:48:26.302] 40.57 celsius</td>\n",
       "    </tr>\n",
       "    <tr>\n",
       "      <th>8</th>\n",
       "      <td>[2020-10-18 20:48:26.302] 60cm'den daha uzak</td>\n",
       "    </tr>\n",
       "    <tr>\n",
       "      <th>9</th>\n",
       "      <td>[2020-10-18 20:48:26.302] Isik seviyesi:87</td>\n",
       "    </tr>\n",
       "    <tr>\n",
       "      <th>10</th>\n",
       "      <td>[2020-10-18 20:48:26.302]</td>\n",
       "    </tr>\n",
       "    <tr>\n",
       "      <th>11</th>\n",
       "      <td>[2020-10-18 20:48:26.302]  Suyun Seviyesi:542</td>\n",
       "    </tr>\n",
       "    <tr>\n",
       "      <th>12</th>\n",
       "      <td>[2020-10-18 20:48:26.302] 18.08 celsius</td>\n",
       "    </tr>\n",
       "    <tr>\n",
       "      <th>13</th>\n",
       "      <td>[2020-10-18 20:48:26.302] 60cm'den daha uzak</td>\n",
       "    </tr>\n",
       "    <tr>\n",
       "      <th>14</th>\n",
       "      <td>[2020-10-18 20:48:26.302] Isik seviyesi:75</td>\n",
       "    </tr>\n",
       "    <tr>\n",
       "      <th>15</th>\n",
       "      <td>[2020-10-18 20:48:26.302]</td>\n",
       "    </tr>\n",
       "    <tr>\n",
       "      <th>16</th>\n",
       "      <td>[2020-10-18 20:48:26.302]  Suyun Seviyesi:544</td>\n",
       "    </tr>\n",
       "    <tr>\n",
       "      <th>17</th>\n",
       "      <td>[2020-10-18 20:48:26.302] 34.70 celsius</td>\n",
       "    </tr>\n",
       "    <tr>\n",
       "      <th>18</th>\n",
       "      <td>[2020-10-18 20:48:26.302] 60cm'den daha uzak</td>\n",
       "    </tr>\n",
       "    <tr>\n",
       "      <th>19</th>\n",
       "      <td>[2020-10-18 20:48:26.302] Isik seviyesi:91</td>\n",
       "    </tr>\n",
       "  </tbody>\n",
       "</table>\n",
       "</div>"
      ],
      "text/plain": [
       "                                                0\n",
       "0                       [2020-10-18 20:48:26.302]\n",
       "1   [2020-10-18 20:48:26.302]  Suyun Seviyesi:543\n",
       "2         [2020-10-18 20:48:26.302] 28.84 celsius\n",
       "3    [2020-10-18 20:48:26.302] 60cm'den daha uzak\n",
       "4      [2020-10-18 20:48:26.302] Isik seviyesi:87\n",
       "5                      [2020-10-18 20:48:26.302] \n",
       "6   [2020-10-18 20:48:26.302]  Suyun Seviyesi:543\n",
       "7         [2020-10-18 20:48:26.302] 40.57 celsius\n",
       "8    [2020-10-18 20:48:26.302] 60cm'den daha uzak\n",
       "9      [2020-10-18 20:48:26.302] Isik seviyesi:87\n",
       "10                     [2020-10-18 20:48:26.302] \n",
       "11  [2020-10-18 20:48:26.302]  Suyun Seviyesi:542\n",
       "12        [2020-10-18 20:48:26.302] 18.08 celsius\n",
       "13   [2020-10-18 20:48:26.302] 60cm'den daha uzak\n",
       "14     [2020-10-18 20:48:26.302] Isik seviyesi:75\n",
       "15                     [2020-10-18 20:48:26.302] \n",
       "16  [2020-10-18 20:48:26.302]  Suyun Seviyesi:544\n",
       "17        [2020-10-18 20:48:26.302] 34.70 celsius\n",
       "18   [2020-10-18 20:48:26.302] 60cm'den daha uzak\n",
       "19     [2020-10-18 20:48:26.302] Isik seviyesi:91"
      ]
     },
     "execution_count": 275,
     "metadata": {},
     "output_type": "execute_result"
    }
   ],
   "source": [
    "# Veriyi data isminde bir pandas DataFrame olarak yükleyelim\n",
    "data = pd.read_csv(\"ArduinoSon.csv\", header=None)\n",
    "\n",
    "# İlk 20 kolona göz atalım\n",
    "data.head(20)"
   ]
  },
  {
   "cell_type": "markdown",
   "metadata": {},
   "source": [
    "Elimizdeki veriyi uygun formatta bir tablo verisi haline getirmemiz gerekiyor. Şuan halihazırda bulunan verisetinde tek kolonda Tarih/Saat, Sıcaklık Sensörü, Ultrasonik Sensör, Işık Seviyesi, Su seviyesi verileri bulunmakta. Verileri uygun formata getirmek için bir fonksiyon yazalım."
   ]
  },
  {
   "cell_type": "code",
   "execution_count": 276,
   "metadata": {},
   "outputs": [],
   "source": [
    "# Verileri tutacak bir dictionary oluşturalım\n",
    "dictionary={\n",
    "    \"DateTime\":[],\n",
    "    \"IsFoodFinished\":[],\n",
    "    \"WaterLevel\":[],\n",
    "    \"LightLevel\":[],\n",
    "    \"Temperature\":[],\n",
    "    \"UltraLevel\":[]\n",
    "}\n",
    "\n",
    "# Bütün satırlara teker teker bakacağız\n",
    "count = 0\n",
    "for index, row in data.iterrows():\n",
    "        \n",
    "    if count%5==0:\n",
    "        match = re.search(r'\\d{4}-\\d{2}-\\d{2} \\d{2}:\\d{2}:\\d{2}', row[0])\n",
    "        date = datetime.strptime(match.group(), '%Y-%m-%d %H:%M:%S')\n",
    "        dictionary[\"DateTime\"].append(date)\n",
    "    \n",
    "    # Su seviyesini kaydedelim\n",
    "    match = re.search(r'Suyun Seviyesi:\\s*([^\\n]+)', row[0])\n",
    "    if match:\n",
    "        dictionary[\"WaterLevel\"].append(int(match.group(1)))\n",
    "        count +=1\n",
    "        continue\n",
    "    \n",
    "    # Işık Seviyesini kaydedelim\n",
    "    match = re.search(r'Isik seviyesi:\\s*([^\\n]+)', row[0])\n",
    "    if match:\n",
    "        dictionary[\"LightLevel\"].append(int(match.group(1)))\n",
    "        count +=1\n",
    "        continue\n",
    "        \n",
    "    # Mama bitip bitmeme durumunu kontrol edelim\n",
    "    match = re.search(r'Mama bitti.', row[0])\n",
    "    if match:\n",
    "        dictionary[\"IsFoodFinished\"].append(1)\n",
    "        count +=1\n",
    "        continue\n",
    "    elif len(row[0]) in range(25,27):\n",
    "        dictionary[\"IsFoodFinished\"].append(0)\n",
    "        count +=1\n",
    "        continue\n",
    "        \n",
    "    # Sıcaklık seviyesini kaydedelim\n",
    "    match = re.search(r'\\d+\\.\\d+\\scelsius', row[0])\n",
    "    if match:\n",
    "        dictionary[\"Temperature\"].append(float(match.group(0).split()[0]))\n",
    "        count +=1\n",
    "        continue\n",
    "    \n",
    "    # Mesafe verisini kaydedelim\n",
    "    match = re.search(r'[0-9]{1,4}cm', row[0])\n",
    "    if match:\n",
    "        dictionary[\"UltraLevel\"].append(int(match.group(0).split(\"cm\")[0]))\n",
    "        count +=1\n",
    "        continue"
   ]
  },
  {
   "cell_type": "markdown",
   "metadata": {},
   "source": [
    "Verimizi tablo haline getirdik. Artık pandas DataFrame olarak inceleyebiliriz"
   ]
  },
  {
   "cell_type": "code",
   "execution_count": 277,
   "metadata": {},
   "outputs": [
    {
     "data": {
      "text/html": [
       "<div>\n",
       "<style scoped>\n",
       "    .dataframe tbody tr th:only-of-type {\n",
       "        vertical-align: middle;\n",
       "    }\n",
       "\n",
       "    .dataframe tbody tr th {\n",
       "        vertical-align: top;\n",
       "    }\n",
       "\n",
       "    .dataframe thead th {\n",
       "        text-align: right;\n",
       "    }\n",
       "</style>\n",
       "<table border=\"1\" class=\"dataframe\">\n",
       "  <thead>\n",
       "    <tr style=\"text-align: right;\">\n",
       "      <th></th>\n",
       "      <th>DateTime</th>\n",
       "      <th>IsFoodFinished</th>\n",
       "      <th>WaterLevel</th>\n",
       "      <th>LightLevel</th>\n",
       "      <th>Temperature</th>\n",
       "      <th>UltraLevel</th>\n",
       "    </tr>\n",
       "  </thead>\n",
       "  <tbody>\n",
       "    <tr>\n",
       "      <th>0</th>\n",
       "      <td>2020-10-18 20:48:26</td>\n",
       "      <td>0</td>\n",
       "      <td>543</td>\n",
       "      <td>87</td>\n",
       "      <td>28.84</td>\n",
       "      <td>60</td>\n",
       "    </tr>\n",
       "    <tr>\n",
       "      <th>1</th>\n",
       "      <td>2020-10-18 20:48:26</td>\n",
       "      <td>0</td>\n",
       "      <td>543</td>\n",
       "      <td>87</td>\n",
       "      <td>40.57</td>\n",
       "      <td>60</td>\n",
       "    </tr>\n",
       "    <tr>\n",
       "      <th>2</th>\n",
       "      <td>2020-10-18 20:48:26</td>\n",
       "      <td>0</td>\n",
       "      <td>542</td>\n",
       "      <td>75</td>\n",
       "      <td>18.08</td>\n",
       "      <td>60</td>\n",
       "    </tr>\n",
       "    <tr>\n",
       "      <th>3</th>\n",
       "      <td>2020-10-18 20:48:26</td>\n",
       "      <td>0</td>\n",
       "      <td>544</td>\n",
       "      <td>91</td>\n",
       "      <td>34.70</td>\n",
       "      <td>60</td>\n",
       "    </tr>\n",
       "    <tr>\n",
       "      <th>4</th>\n",
       "      <td>2020-10-18 20:48:26</td>\n",
       "      <td>0</td>\n",
       "      <td>543</td>\n",
       "      <td>78</td>\n",
       "      <td>46.92</td>\n",
       "      <td>60</td>\n",
       "    </tr>\n",
       "  </tbody>\n",
       "</table>\n",
       "</div>"
      ],
      "text/plain": [
       "             DateTime  IsFoodFinished  WaterLevel  LightLevel  Temperature  \\\n",
       "0 2020-10-18 20:48:26               0         543          87        28.84   \n",
       "1 2020-10-18 20:48:26               0         543          87        40.57   \n",
       "2 2020-10-18 20:48:26               0         542          75        18.08   \n",
       "3 2020-10-18 20:48:26               0         544          91        34.70   \n",
       "4 2020-10-18 20:48:26               0         543          78        46.92   \n",
       "\n",
       "   UltraLevel  \n",
       "0          60  \n",
       "1          60  \n",
       "2          60  \n",
       "3          60  \n",
       "4          60  "
      ]
     },
     "metadata": {},
     "output_type": "display_data"
    },
    {
     "name": "stdout",
     "output_type": "stream",
     "text": [
      "<class 'pandas.core.frame.DataFrame'>\n",
      "RangeIndex: 178 entries, 0 to 177\n",
      "Data columns (total 6 columns):\n",
      " #   Column          Non-Null Count  Dtype         \n",
      "---  ------          --------------  -----         \n",
      " 0   DateTime        178 non-null    datetime64[ns]\n",
      " 1   IsFoodFinished  178 non-null    int64         \n",
      " 2   WaterLevel      178 non-null    int64         \n",
      " 3   LightLevel      178 non-null    int64         \n",
      " 4   Temperature     178 non-null    float64       \n",
      " 5   UltraLevel      178 non-null    int64         \n",
      "dtypes: datetime64[ns](1), float64(1), int64(4)\n",
      "memory usage: 8.5 KB\n",
      "None\n"
     ]
    },
    {
     "data": {
      "text/html": [
       "<div>\n",
       "<style scoped>\n",
       "    .dataframe tbody tr th:only-of-type {\n",
       "        vertical-align: middle;\n",
       "    }\n",
       "\n",
       "    .dataframe tbody tr th {\n",
       "        vertical-align: top;\n",
       "    }\n",
       "\n",
       "    .dataframe thead th {\n",
       "        text-align: right;\n",
       "    }\n",
       "</style>\n",
       "<table border=\"1\" class=\"dataframe\">\n",
       "  <thead>\n",
       "    <tr style=\"text-align: right;\">\n",
       "      <th></th>\n",
       "      <th>IsFoodFinished</th>\n",
       "      <th>WaterLevel</th>\n",
       "      <th>LightLevel</th>\n",
       "      <th>Temperature</th>\n",
       "      <th>UltraLevel</th>\n",
       "    </tr>\n",
       "  </thead>\n",
       "  <tbody>\n",
       "    <tr>\n",
       "      <th>count</th>\n",
       "      <td>178.000000</td>\n",
       "      <td>178.000000</td>\n",
       "      <td>178.000000</td>\n",
       "      <td>178.000000</td>\n",
       "      <td>178.0</td>\n",
       "    </tr>\n",
       "    <tr>\n",
       "      <th>mean</th>\n",
       "      <td>0.213483</td>\n",
       "      <td>348.438202</td>\n",
       "      <td>198.022472</td>\n",
       "      <td>28.176292</td>\n",
       "      <td>60.0</td>\n",
       "    </tr>\n",
       "    <tr>\n",
       "      <th>std</th>\n",
       "      <td>0.410922</td>\n",
       "      <td>234.522520</td>\n",
       "      <td>231.022951</td>\n",
       "      <td>10.434949</td>\n",
       "      <td>0.0</td>\n",
       "    </tr>\n",
       "    <tr>\n",
       "      <th>min</th>\n",
       "      <td>0.000000</td>\n",
       "      <td>24.000000</td>\n",
       "      <td>59.000000</td>\n",
       "      <td>13.200000</td>\n",
       "      <td>60.0</td>\n",
       "    </tr>\n",
       "    <tr>\n",
       "      <th>25%</th>\n",
       "      <td>0.000000</td>\n",
       "      <td>88.000000</td>\n",
       "      <td>71.000000</td>\n",
       "      <td>23.950000</td>\n",
       "      <td>60.0</td>\n",
       "    </tr>\n",
       "    <tr>\n",
       "      <th>50%</th>\n",
       "      <td>0.000000</td>\n",
       "      <td>534.500000</td>\n",
       "      <td>75.000000</td>\n",
       "      <td>24.930000</td>\n",
       "      <td>60.0</td>\n",
       "    </tr>\n",
       "    <tr>\n",
       "      <th>75%</th>\n",
       "      <td>0.000000</td>\n",
       "      <td>548.750000</td>\n",
       "      <td>90.000000</td>\n",
       "      <td>31.280000</td>\n",
       "      <td>60.0</td>\n",
       "    </tr>\n",
       "    <tr>\n",
       "      <th>max</th>\n",
       "      <td>1.000000</td>\n",
       "      <td>672.000000</td>\n",
       "      <td>643.000000</td>\n",
       "      <td>56.210000</td>\n",
       "      <td>60.0</td>\n",
       "    </tr>\n",
       "  </tbody>\n",
       "</table>\n",
       "</div>"
      ],
      "text/plain": [
       "       IsFoodFinished  WaterLevel  LightLevel  Temperature  UltraLevel\n",
       "count      178.000000  178.000000  178.000000   178.000000       178.0\n",
       "mean         0.213483  348.438202  198.022472    28.176292        60.0\n",
       "std          0.410922  234.522520  231.022951    10.434949         0.0\n",
       "min          0.000000   24.000000   59.000000    13.200000        60.0\n",
       "25%          0.000000   88.000000   71.000000    23.950000        60.0\n",
       "50%          0.000000  534.500000   75.000000    24.930000        60.0\n",
       "75%          0.000000  548.750000   90.000000    31.280000        60.0\n",
       "max          1.000000  672.000000  643.000000    56.210000        60.0"
      ]
     },
     "metadata": {},
     "output_type": "display_data"
    }
   ],
   "source": [
    "# Veriyi pandas DataFrame haline getirelim\n",
    "data = pd.DataFrame.from_dict(dictionary)\n",
    "\n",
    "# İlk 5 kolona göz atalım\n",
    "display(data.head())\n",
    "\n",
    "# Info\n",
    "print(data.info())\n",
    "\n",
    "# Özet istatistikler\n",
    "display(data.describe())"
   ]
  },
  {
   "cell_type": "markdown",
   "metadata": {},
   "source": [
    "Veriyi görselleştirelim"
   ]
  },
  {
   "cell_type": "code",
   "execution_count": 278,
   "metadata": {},
   "outputs": [
    {
     "data": {
      "image/png": "[encoded data removed]",
      "text/plain": [
       "<Figure size 1440x360 with 1 Axes>"
      ]
     },
     "metadata": {
      "needs_background": "light"
     },
     "output_type": "display_data"
    },
    {
     "data": {
      "image/png": "[encoded data removed]",
      "text/plain": [
       "<Figure size 1440x360 with 1 Axes>"
      ]
     },
     "metadata": {
      "needs_background": "light"
     },
     "output_type": "display_data"
    },
    {
     "data": {
      "image/png": "[encoded data removed]",
      "text/plain": [
       "<Figure size 1440x360 with 1 Axes>"
      ]
     },
     "metadata": {
      "needs_background": "light"
     },
     "output_type": "display_data"
    },
    {
     "data": {
      "image/png": "[encoded data removed]",
      "text/plain": [
       "<Figure size 1440x360 with 1 Axes>"
      ]
     },
     "metadata": {
      "needs_background": "light"
     },
     "output_type": "display_data"
    },
    {
     "data": {
      "image/png": "[encoded data removed]",
      "text/plain": [
       "<Figure size 1440x360 with 1 Axes>"
      ]
     },
     "metadata": {
      "needs_background": "light"
     },
     "output_type": "display_data"
    }
   ],
   "source": [
    "for column_name in data.columns[1:]:\n",
    "    plt.figure(figsize = (20, 5), facecolor = None)\n",
    "    plt.title(column_name)\n",
    "    sns.lineplot(x=\"DateTime\", y=column_name, data=data, label=str(column_name))\n",
    "    plt.show()"
   ]
  },
  {
   "cell_type": "markdown",
   "metadata": {},
   "source": [
    "Elimizdeki veri çok kısa bir zamanda toplandığı için üretimde kullanılabilecek durumda değil biz yine de modelimizi hazırlayacağız ve şimdilik üretim kısmında bu eğilime göre yarattığımız rastgele veriyi kullanacağız"
   ]
  },
  {
   "cell_type": "markdown",
   "metadata": {},
   "source": [
    "# 2. Öznitelik Çıkarımı"
   ]
  },
  {
   "cell_type": "markdown",
   "metadata": {},
   "source": [
    "Elimizdeki verisetine göre mamanın bitmesine kaç saat olduğunu bağımlı değişkenimiz olmak üzere verisetine ekleyelim"
   ]
  },
  {
   "cell_type": "code",
   "execution_count": 279,
   "metadata": {},
   "outputs": [
    {
     "data": {
      "text/html": [
       "<div>\n",
       "<style scoped>\n",
       "    .dataframe tbody tr th:only-of-type {\n",
       "        vertical-align: middle;\n",
       "    }\n",
       "\n",
       "    .dataframe tbody tr th {\n",
       "        vertical-align: top;\n",
       "    }\n",
       "\n",
       "    .dataframe thead th {\n",
       "        text-align: right;\n",
       "    }\n",
       "</style>\n",
       "<table border=\"1\" class=\"dataframe\">\n",
       "  <thead>\n",
       "    <tr style=\"text-align: right;\">\n",
       "      <th></th>\n",
       "      <th>DateTime</th>\n",
       "      <th>IsFoodFinished</th>\n",
       "      <th>WaterLevel</th>\n",
       "      <th>LightLevel</th>\n",
       "      <th>Temperature</th>\n",
       "      <th>UltraLevel</th>\n",
       "      <th>Remaining_Time</th>\n",
       "    </tr>\n",
       "  </thead>\n",
       "  <tbody>\n",
       "    <tr>\n",
       "      <th>0</th>\n",
       "      <td>2020-10-18 20:48:26</td>\n",
       "      <td>0</td>\n",
       "      <td>543</td>\n",
       "      <td>87</td>\n",
       "      <td>28.84</td>\n",
       "      <td>60</td>\n",
       "      <td>0.092222</td>\n",
       "    </tr>\n",
       "    <tr>\n",
       "      <th>1</th>\n",
       "      <td>2020-10-18 20:48:26</td>\n",
       "      <td>0</td>\n",
       "      <td>543</td>\n",
       "      <td>87</td>\n",
       "      <td>40.57</td>\n",
       "      <td>60</td>\n",
       "      <td>0.092222</td>\n",
       "    </tr>\n",
       "    <tr>\n",
       "      <th>2</th>\n",
       "      <td>2020-10-18 20:48:26</td>\n",
       "      <td>0</td>\n",
       "      <td>542</td>\n",
       "      <td>75</td>\n",
       "      <td>18.08</td>\n",
       "      <td>60</td>\n",
       "      <td>0.092222</td>\n",
       "    </tr>\n",
       "    <tr>\n",
       "      <th>3</th>\n",
       "      <td>2020-10-18 20:48:26</td>\n",
       "      <td>0</td>\n",
       "      <td>544</td>\n",
       "      <td>91</td>\n",
       "      <td>34.70</td>\n",
       "      <td>60</td>\n",
       "      <td>0.092222</td>\n",
       "    </tr>\n",
       "    <tr>\n",
       "      <th>4</th>\n",
       "      <td>2020-10-18 20:48:26</td>\n",
       "      <td>0</td>\n",
       "      <td>543</td>\n",
       "      <td>78</td>\n",
       "      <td>46.92</td>\n",
       "      <td>60</td>\n",
       "      <td>0.092222</td>\n",
       "    </tr>\n",
       "    <tr>\n",
       "      <th>...</th>\n",
       "      <td>...</td>\n",
       "      <td>...</td>\n",
       "      <td>...</td>\n",
       "      <td>...</td>\n",
       "      <td>...</td>\n",
       "      <td>...</td>\n",
       "      <td>...</td>\n",
       "    </tr>\n",
       "    <tr>\n",
       "      <th>173</th>\n",
       "      <td>2020-10-18 20:54:40</td>\n",
       "      <td>1</td>\n",
       "      <td>46</td>\n",
       "      <td>626</td>\n",
       "      <td>26.39</td>\n",
       "      <td>60</td>\n",
       "      <td>0.000833</td>\n",
       "    </tr>\n",
       "    <tr>\n",
       "      <th>174</th>\n",
       "      <td>2020-10-18 20:54:42</td>\n",
       "      <td>1</td>\n",
       "      <td>41</td>\n",
       "      <td>636</td>\n",
       "      <td>24.93</td>\n",
       "      <td>60</td>\n",
       "      <td>0.000556</td>\n",
       "    </tr>\n",
       "    <tr>\n",
       "      <th>175</th>\n",
       "      <td>2020-10-18 20:54:43</td>\n",
       "      <td>1</td>\n",
       "      <td>40</td>\n",
       "      <td>637</td>\n",
       "      <td>24.93</td>\n",
       "      <td>60</td>\n",
       "      <td>0.000556</td>\n",
       "    </tr>\n",
       "    <tr>\n",
       "      <th>176</th>\n",
       "      <td>2020-10-18 20:54:44</td>\n",
       "      <td>1</td>\n",
       "      <td>37</td>\n",
       "      <td>638</td>\n",
       "      <td>24.93</td>\n",
       "      <td>60</td>\n",
       "      <td>0.000278</td>\n",
       "    </tr>\n",
       "    <tr>\n",
       "      <th>177</th>\n",
       "      <td>2020-10-18 20:54:45</td>\n",
       "      <td>1</td>\n",
       "      <td>38</td>\n",
       "      <td>637</td>\n",
       "      <td>24.93</td>\n",
       "      <td>60</td>\n",
       "      <td>0.000000</td>\n",
       "    </tr>\n",
       "  </tbody>\n",
       "</table>\n",
       "<p>178 rows × 7 columns</p>\n",
       "</div>"
      ],
      "text/plain": [
       "               DateTime  IsFoodFinished  WaterLevel  LightLevel  Temperature  \\\n",
       "0   2020-10-18 20:48:26               0         543          87        28.84   \n",
       "1   2020-10-18 20:48:26               0         543          87        40.57   \n",
       "2   2020-10-18 20:48:26               0         542          75        18.08   \n",
       "3   2020-10-18 20:48:26               0         544          91        34.70   \n",
       "4   2020-10-18 20:48:26               0         543          78        46.92   \n",
       "..                  ...             ...         ...         ...          ...   \n",
       "173 2020-10-18 20:54:40               1          46         626        26.39   \n",
       "174 2020-10-18 20:54:42               1          41         636        24.93   \n",
       "175 2020-10-18 20:54:43               1          40         637        24.93   \n",
       "176 2020-10-18 20:54:44               1          37         638        24.93   \n",
       "177 2020-10-18 20:54:45               1          38         637        24.93   \n",
       "\n",
       "     UltraLevel  Remaining_Time  \n",
       "0            60        0.092222  \n",
       "1            60        0.092222  \n",
       "2            60        0.092222  \n",
       "3            60        0.092222  \n",
       "4            60        0.092222  \n",
       "..          ...             ...  \n",
       "173          60        0.000833  \n",
       "174          60        0.000556  \n",
       "175          60        0.000556  \n",
       "176          60        0.000278  \n",
       "177          60        0.000000  \n",
       "\n",
       "[178 rows x 7 columns]"
      ]
     },
     "metadata": {},
     "output_type": "display_data"
    }
   ],
   "source": [
    "# Kalan zamanı gösteren kolonu oluşturalım\n",
    "data[\"Remaining_Time\"] = 0\n",
    "    \n",
    "# Mamanın bittiği zamandaki indexleri alalım\n",
    "selected_indexes = data.index[data['IsFoodFinished'] == 1].tolist()\n",
    "    \n",
    "initial_idx = 0\n",
    "    \n",
    "for j in selected_indexes:\n",
    "    for index, row in data.iterrows():\n",
    "        if index < j and index >= initial_idx:\n",
    "            delta = (data.loc[j, \"DateTime\"] - data.loc[index, \"DateTime\"])\n",
    "            data.loc[index, \"Remaining_Time\"] = delta.days * 24 + delta.seconds/3600\n",
    "            global temp\n",
    "            temp = index\n",
    "    initial_idx = temp\n",
    "    \n",
    "# Verisetimizin son halini bastıralım\n",
    "display(data)"
   ]
  },
  {
   "cell_type": "markdown",
   "metadata": {},
   "source": [
    "Anlık durumda mamanın bitmesine kaç saat olduğunu hesapladık. Makine öğrenmesi algoritmamız bu kalan zamanı tahmin edecek şekilde eğitilecek"
   ]
  },
  {
   "cell_type": "code",
   "execution_count": 280,
   "metadata": {},
   "outputs": [],
   "source": [
    "# Veriyi daha sonra kullanmak için kaydedelim\n",
    "data.to_csv(\"isfoodfinished_real_processed.csv\", index=False)"
   ]
  },
  {
   "cell_type": "markdown",
   "metadata": {},
   "source": [
    "# 3. Makine Öğrenmesi"
   ]
  },
  {
   "cell_type": "code",
   "execution_count": 281,
   "metadata": {},
   "outputs": [],
   "source": [
    "# Veritesini yükleyelim\n",
    "data = pd.read_csv(\"isfoodfinished_real_processed.csv\", parse_dates=[\"DateTime\"])"
   ]
  },
  {
   "cell_type": "markdown",
   "metadata": {},
   "source": [
    "Verisetini train/val/test set olarak bölelim. Ultrasonik sensör verisi ve Mama Durumu bizim için belirleyici olmayacağından dolayı bu özellikleri dahil etmeyeceğiz."
   ]
  },
  {
   "cell_type": "code",
   "execution_count": 298,
   "metadata": {},
   "outputs": [],
   "source": [
    "# Bağımlı ve bağımsız değişkenlerin seçimi\n",
    "X = data.drop([\"Remaining_Time\", \"DateTime\", \"IsFoodFinished\", \"UltraLevel\"], axis=1)\n",
    "y = data[\"Remaining_Time\"]\n",
    "\n",
    "X_train, X_test, y_train, y_test = train_test_split(X, y, test_size=0.2, random_state=2020)\n",
    "\n",
    "X_train, X_val, y_train, y_val = train_test_split(X_train, y_train, test_size=0.25, random_state=2020) "
   ]
  },
  {
   "cell_type": "markdown",
   "metadata": {},
   "source": [
    "Modelimizi Random Forest algoritmasını kullanarak eğiteceğiz. Bunun için sklearn den RandomForestRegressor bizim için oldukça faydalı olacak"
   ]
  },
  {
   "cell_type": "code",
   "execution_count": 299,
   "metadata": {},
   "outputs": [
    {
     "name": "stdout",
     "output_type": "stream",
     "text": [
      "Best parameters: {'n_estimators': 300}\n",
      "Best R^2: 0.9874788644901541\n",
      "\n",
      "Training Errors:\n",
      " \n",
      "MSE: 1.7823154058643484e-06\n",
      "RMSE: 0.0013350338594449013\n",
      "R^2: 0.9984296946586385\n",
      "\n",
      "Validation Errors:\n",
      " \n",
      "MSE: 2.5032174095006366e-05\n",
      "RMSE: 0.005003216374993826\n",
      "R^2: 0.9710735829704153\n"
     ]
    }
   ],
   "source": [
    "# Hiperparametre optimizasyonu için parametreleri tutan dictionary\n",
    "parameters = {'n_estimators':[100,200,300]}\n",
    "\n",
    "# Regressoru initialize edelim.\n",
    "rf = RandomForestRegressor()\n",
    "\n",
    "# Hiperparametre optimizasyonu için GridSearchCB\n",
    "search = GridSearchCV(estimator=rf, param_grid=parameters)\n",
    "\n",
    "# Fit the grid search\n",
    "search.fit(X_train, y_train.ravel())\n",
    "\n",
    "# En iyi model ve en iyi R kare skoru\n",
    "print(\"Best parameters:\",search.best_params_)\n",
    "print(\"Best R^2:\",search.best_score_)\n",
    "\n",
    "# Modeli Eğitelim\n",
    "rf_best = search.best_estimator_\n",
    "\n",
    "\n",
    "\n",
    "# Tahmin\n",
    "y_pred_val = rf_best.predict(X_val)\n",
    "y_pred_train = rf_best.predict(X_train)\n",
    "\n",
    "# TRAINING ERRORS\n",
    "print(\"\\nTraining Errors:\\n \")\n",
    "\n",
    "# Mean Squared Error\n",
    "print(\"MSE:\",mean_squared_error(y_train, y_pred_train))\n",
    "\n",
    "# Root Mean Squared Error\n",
    "print(\"RMSE:\",np.sqrt(mean_squared_error(y_train, y_pred_train)))\n",
    "      \n",
    "# R^2\n",
    "print(\"R^2:\",rf_best.score(X_train, y_train))\n",
    "\n",
    "\n",
    "# VALIDATION ERRORS\n",
    "print(\"\\nValidation Errors:\\n \")\n",
    "\n",
    "# Mean Squared Error\n",
    "print(\"MSE:\",mean_squared_error(y_val, y_pred_val))\n",
    "\n",
    "# Root Mean Squared Error\n",
    "print(\"RMSE:\",np.sqrt(mean_squared_error(y_val, y_pred_val)))\n",
    "      \n",
    "# R^2\n",
    "print(\"R^2:\",rf_best.score(X_val, y_val))"
   ]
  },
  {
   "cell_type": "markdown",
   "metadata": {},
   "source": [
    "Modelimizi Kaydedelim"
   ]
  },
  {
   "cell_type": "code",
   "execution_count": 300,
   "metadata": {},
   "outputs": [],
   "source": [
    "import pickle\n",
    "pickle.dump(rf_best, open(\"random_forest_real.pkl\", 'wb'))"
   ]
  },
  {
   "cell_type": "markdown",
   "metadata": {},
   "source": [
    "Modeli yükleyelim"
   ]
  },
  {
   "cell_type": "code",
   "execution_count": 301,
   "metadata": {},
   "outputs": [],
   "source": [
    "model = pickle.load(open(\"random_forest_real.pkl\", 'rb'))"
   ]
  },
  {
   "cell_type": "markdown",
   "metadata": {},
   "source": [
    "Örnek bir veri ile tahmin yapalım"
   ]
  },
  {
   "cell_type": "code",
   "execution_count": 302,
   "metadata": {},
   "outputs": [
    {
     "data": {
      "text/html": [
       "<div>\n",
       "<style scoped>\n",
       "    .dataframe tbody tr th:only-of-type {\n",
       "        vertical-align: middle;\n",
       "    }\n",
       "\n",
       "    .dataframe tbody tr th {\n",
       "        vertical-align: top;\n",
       "    }\n",
       "\n",
       "    .dataframe thead th {\n",
       "        text-align: right;\n",
       "    }\n",
       "</style>\n",
       "<table border=\"1\" class=\"dataframe\">\n",
       "  <thead>\n",
       "    <tr style=\"text-align: right;\">\n",
       "      <th></th>\n",
       "      <th>WaterLevel</th>\n",
       "      <th>LightLevel</th>\n",
       "      <th>Temperature</th>\n",
       "    </tr>\n",
       "  </thead>\n",
       "  <tbody>\n",
       "    <tr>\n",
       "      <th>0</th>\n",
       "      <td>450</td>\n",
       "      <td>170</td>\n",
       "      <td>15</td>\n",
       "    </tr>\n",
       "  </tbody>\n",
       "</table>\n",
       "</div>"
      ],
      "text/plain": [
       "   WaterLevel  LightLevel  Temperature\n",
       "0         450         170           15"
      ]
     },
     "metadata": {},
     "output_type": "display_data"
    },
    {
     "name": "stdout",
     "output_type": "stream",
     "text": [
      "Mama [0.05856555] saat içerisinde tükenecek\n"
     ]
    }
   ],
   "source": [
    "input_dict = {\"WaterLevel\":[450], \"LightLevel\":[170],\"Temperature\":[15]}\n",
    "\n",
    "# pandas DataFrame objesi oluşturalım\n",
    "new_data = pd.DataFrame.from_dict(input_dict)\n",
    "display(new_data)\n",
    "# Tahmin\n",
    "prediction = model.predict(new_data.values)\n",
    "print(\"Mama {} saat içerisinde tükenecek\".format(prediction))"
   ]
  }
 ],
 "metadata": {
  "kernelspec": {
   "display_name": "Python [conda env:tensorflow] *",
   "language": "python",
   "name": "conda-env-tensorflow-py"
  },
  "language_info": {
   "codemirror_mode": {
    "name": "ipython",
    "version": 3
   },
   "file_extension": ".py",
   "mimetype": "text/x-python",
   "name": "python",
   "nbconvert_exporter": "python",
   "pygments_lexer": "ipython3",
   "version": "3.7.9"
  }
 },
 "nbformat": 4,
 "nbformat_minor": 4
}
